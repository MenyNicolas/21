{
 "cells": [
  {
   "cell_type": "code",
   "execution_count": 17,
   "id": "5e734e69",
   "metadata": {},
   "outputs": [],
   "source": [
    "import numpy as np"
   ]
  },
  {
   "cell_type": "code",
   "execution_count": 93,
   "id": "d8b76444",
   "metadata": {},
   "outputs": [],
   "source": [
    "def dealer_BJ(main_dealer):\n",
    "    if sorted(main_dealer) == [10, 11]:\n",
    "        return 1\n",
    "    else:\n",
    "        return 0"
   ]
  },
  {
   "cell_type": "code",
   "execution_count": 48,
   "id": "43372b43",
   "metadata": {},
   "outputs": [],
   "source": [
    "def assurance(true_count):\n",
    "    if true_count >= 3:\n",
    "        return 'A'\n",
    "    else:\n",
    "        return 'N'"
   ]
  },
  {
   "cell_type": "code",
   "execution_count": 80,
   "id": "8459f086",
   "metadata": {},
   "outputs": [],
   "source": [
    "def is_soft(main_dealer):\n",
    "    total = sum(main_dealer)\n",
    "    ace_count = main_dealer.count(11)\n",
    "\n",
    "    # Adjust Aces from 11 to 1 if total > 21\n",
    "    adjusted_aces = ace_count\n",
    "    while total > 21 and adjusted_aces > 0:\n",
    "        total -= 10\n",
    "        adjusted_aces -= 1\n",
    "\n",
    "    # If at least one Ace still counts as 11, it's a soft hand\n",
    "    return adjusted_aces > 0\n"
   ]
  },
  {
   "cell_type": "code",
   "execution_count": 81,
   "id": "3414b34d",
   "metadata": {},
   "outputs": [],
   "source": [
    "def surrender(carte_dealer, main_joueur, is_soft):\n",
    "    is_hard = not is_soft\n",
    "    if carte_dealer in [9, 10, 11]:\n",
    "        if is_hard and (np.sum(main_joueur) == 16):\n",
    "            return 1\n",
    "        elif is_hard and ((np.sum(main_joueur) == 15) and (carte_dealer == 10)):\n",
    "            return 1\n",
    "        else:\n",
    "            return 0\n",
    "    else:\n",
    "        return 0"
   ]
  },
  {
   "cell_type": "code",
   "execution_count": 82,
   "id": "ee69fea4",
   "metadata": {},
   "outputs": [],
   "source": [
    "def is_pair(main_joueur):\n",
    "    return (main_joueur[0] == main_joueur[1]) and (len(main_joueur) == 2)"
   ]
  },
  {
   "cell_type": "code",
   "execution_count": 167,
   "id": "6e4e6c8d",
   "metadata": {},
   "outputs": [],
   "source": [
    "def model_pair(main_dealer, main_joueur, true_count):\n",
    "    return 0"
   ]
  },
  {
   "cell_type": "code",
   "execution_count": 174,
   "id": "5b90f74e",
   "metadata": {},
   "outputs": [],
   "source": [
    "def model_hard(main_dealer, main_joueur, true_count):\n",
    "    return 'H'"
   ]
  },
  {
   "cell_type": "code",
   "execution_count": 85,
   "id": "d21e82a7",
   "metadata": {},
   "outputs": [],
   "source": [
    "def model_soft(main_dealer, main_joueur, true_count):\n",
    "    return 'H'"
   ]
  },
  {
   "cell_type": "code",
   "execution_count": 86,
   "id": "b1dfca44",
   "metadata": {},
   "outputs": [],
   "source": [
    "def valeur_main(main_joueur):\n",
    "    total = 0\n",
    "    ace_count = 0\n",
    "\n",
    "    for card in main_joueur:\n",
    "        if card == 11:\n",
    "            ace_count += 1\n",
    "        total += card\n",
    "\n",
    "    # Ajustement des As (11 → 1) si nécessaire\n",
    "    while total > 21 and ace_count > 0:\n",
    "        total -= 10\n",
    "        ace_count -= 1\n",
    "\n",
    "    return total\n"
   ]
  },
  {
   "cell_type": "code",
   "execution_count": 175,
   "id": "989c7230",
   "metadata": {},
   "outputs": [],
   "source": [
    "def transaction_pair(main_dealer, main_joueur, true_count, action_stack):\n",
    "    main_joueur1 = [main_joueur[0], 3]\n",
    "    main_joueur1 = [main_joueur[0], 4]\n",
    "    \n",
    "\n",
    "    if main_joueur == [11, 11]:\n",
    "        print(\"fin de manche\")\n",
    "    else:\n",
    "        algo(main_dealer, main_joueur, true_count, action_stack)"
   ]
  },
  {
   "cell_type": "code",
   "execution_count": null,
   "id": "b37daa35",
   "metadata": {},
   "outputs": [],
   "source": [
    "def algo(main_dealer, main_joueur, true_count, action_stack):\n",
    "\n",
    "    if is_pair(main_joueur) and model_pair(main_dealer, main_joueur, true_count):\n",
    "        action_stack.append('P')\n",
    "        transaction_pair(main_dealer, main_joueur, true_count, action_stack)\n",
    "    else:\n",
    "        action_stack.append(model_hard(main_dealer, main_joueur, true_count))\n",
    "        if(action_stack[-1] == \"D\"):\n",
    "            main_joueur.append(7)\n",
    "            print(\"fin de manche, double down\")\n",
    "        elif(valeur_main(main_joueur) > 21):\n",
    "            print(\"fin de manche, bust\")\n",
    "        elif(action_stack[-1] == \"S\"):\n",
    "            main_joueur.append(7)\n",
    "            print(\"fin de manche, stand\")\n",
    "        else:\n",
    "            algo(main_dealer, main_joueur, true_count, action_stack)\n",
    "    \n",
    "        "
   ]
  },
  {
   "cell_type": "code",
   "execution_count": 165,
   "id": "4d6a43ba",
   "metadata": {},
   "outputs": [],
   "source": [
    "def pre_algo(main_dealer, main_joueur, true_count):\n",
    "    action_stack = []\n",
    "    carte_dealer = main_dealer[0]\n",
    "\n",
    "    if carte_dealer == 11:\n",
    "        action_stack.append(assurance(true_count))\n",
    "\n",
    "    if dealer_BJ(main_dealer):\n",
    "        print(\"fin de manche\")\n",
    "        # print(\"main_joueur : {}\\nmain_dealer : {}\\naction_stack : {}\\ntrue_count : {}\".format(main_joueur, main_dealer, action_stack, true_count))\n",
    "    else:\n",
    "        if surrender(carte_dealer, main_joueur, is_soft(main_joueur)):\n",
    "            action_stack.append('SUR')\n",
    "            print(\"fin de manche\")\n",
    "            # print(\"main_joueur : {}\\nmain_dealer : {}\\naction_stack : {}\\ntrue_count : {}\".format(main_joueur, main_dealer, action_stack, true_count))\n",
    "        else:\n",
    "            algo(main_dealer, main_joueur, true_count, action_stack)\n",
    "    "
   ]
  },
  {
   "cell_type": "code",
   "execution_count": 177,
   "id": "fea950bd",
   "metadata": {},
   "outputs": [
    {
     "ename": "RecursionError",
     "evalue": "maximum recursion depth exceeded",
     "output_type": "error",
     "traceback": [
      "\u001b[1;31m---------------------------------------------------------------------------\u001b[0m",
      "\u001b[1;31mRecursionError\u001b[0m                            Traceback (most recent call last)",
      "Cell \u001b[1;32mIn[177], line 5\u001b[0m\n\u001b[0;32m      2\u001b[0m main_joueur \u001b[38;5;241m=\u001b[39m [\u001b[38;5;241m5\u001b[39m, \u001b[38;5;241m5\u001b[39m]\n\u001b[0;32m      3\u001b[0m true_count \u001b[38;5;241m=\u001b[39m \u001b[38;5;241m4\u001b[39m\n\u001b[1;32m----> 5\u001b[0m pre_algo(main_dealer, main_joueur, true_count)\n",
      "Cell \u001b[1;32mIn[165], line 17\u001b[0m, in \u001b[0;36mpre_algo\u001b[1;34m(main_dealer, main_joueur, true_count)\u001b[0m\n\u001b[0;32m     14\u001b[0m     \u001b[38;5;28mprint\u001b[39m(\u001b[38;5;124m\"\u001b[39m\u001b[38;5;124mfin de manche\u001b[39m\u001b[38;5;124m\"\u001b[39m)\n\u001b[0;32m     15\u001b[0m     \u001b[38;5;66;03m# print(\"main_joueur : {}\\nmain_dealer : {}\\naction_stack : {}\\ntrue_count : {}\".format(main_joueur, main_dealer, action_stack, true_count))\u001b[39;00m\n\u001b[0;32m     16\u001b[0m \u001b[38;5;28;01melse\u001b[39;00m:\n\u001b[1;32m---> 17\u001b[0m     algo(main_dealer, main_joueur, true_count, action_stack)\n",
      "Cell \u001b[1;32mIn[176], line 16\u001b[0m, in \u001b[0;36malgo\u001b[1;34m(main_dealer, main_joueur, true_count, action_stack)\u001b[0m\n\u001b[0;32m     14\u001b[0m     main_joueur\u001b[38;5;241m.\u001b[39mappend(\u001b[38;5;241m7\u001b[39m)\n\u001b[0;32m     15\u001b[0m     \u001b[38;5;28mprint\u001b[39m(\u001b[38;5;124m\"\u001b[39m\u001b[38;5;124mfin de manche, stand\u001b[39m\u001b[38;5;124m\"\u001b[39m)\n\u001b[1;32m---> 16\u001b[0m algo(main_dealer, main_joueur, true_count, action_stack)\n",
      "Cell \u001b[1;32mIn[176], line 16\u001b[0m, in \u001b[0;36malgo\u001b[1;34m(main_dealer, main_joueur, true_count, action_stack)\u001b[0m\n\u001b[0;32m     14\u001b[0m     main_joueur\u001b[38;5;241m.\u001b[39mappend(\u001b[38;5;241m7\u001b[39m)\n\u001b[0;32m     15\u001b[0m     \u001b[38;5;28mprint\u001b[39m(\u001b[38;5;124m\"\u001b[39m\u001b[38;5;124mfin de manche, stand\u001b[39m\u001b[38;5;124m\"\u001b[39m)\n\u001b[1;32m---> 16\u001b[0m algo(main_dealer, main_joueur, true_count, action_stack)\n",
      "    \u001b[1;31m[... skipping similar frames: algo at line 16 (2972 times)]\u001b[0m\n",
      "Cell \u001b[1;32mIn[176], line 16\u001b[0m, in \u001b[0;36malgo\u001b[1;34m(main_dealer, main_joueur, true_count, action_stack)\u001b[0m\n\u001b[0;32m     14\u001b[0m     main_joueur\u001b[38;5;241m.\u001b[39mappend(\u001b[38;5;241m7\u001b[39m)\n\u001b[0;32m     15\u001b[0m     \u001b[38;5;28mprint\u001b[39m(\u001b[38;5;124m\"\u001b[39m\u001b[38;5;124mfin de manche, stand\u001b[39m\u001b[38;5;124m\"\u001b[39m)\n\u001b[1;32m---> 16\u001b[0m algo(main_dealer, main_joueur, true_count, action_stack)\n",
      "Cell \u001b[1;32mIn[176], line 3\u001b[0m, in \u001b[0;36malgo\u001b[1;34m(main_dealer, main_joueur, true_count, action_stack)\u001b[0m\n\u001b[0;32m      1\u001b[0m \u001b[38;5;28;01mdef\u001b[39;00m \u001b[38;5;21malgo\u001b[39m(main_dealer, main_joueur, true_count, action_stack):\n\u001b[1;32m----> 3\u001b[0m     \u001b[38;5;28;01mif\u001b[39;00m is_pair(main_joueur) \u001b[38;5;129;01mand\u001b[39;00m model_pair(main_dealer, main_joueur, true_count):\n\u001b[0;32m      4\u001b[0m         action_stack\u001b[38;5;241m.\u001b[39mappend(\u001b[38;5;124m'\u001b[39m\u001b[38;5;124mP\u001b[39m\u001b[38;5;124m'\u001b[39m)\n\u001b[0;32m      5\u001b[0m         transaction_pair(main_dealer, main_joueur, true_count, action_stack)\n",
      "\u001b[1;31mRecursionError\u001b[0m: maximum recursion depth exceeded"
     ]
    }
   ],
   "source": [
    "main_dealer = [11, 8]\n",
    "main_joueur = [5, 5]\n",
    "true_count = 4\n",
    "\n",
    "pre_algo(main_dealer, main_joueur, true_count)"
   ]
  },
  {
   "cell_type": "code",
   "execution_count": null,
   "id": "d98a0109",
   "metadata": {},
   "outputs": [
    {
     "data": {
      "text/plain": [
       "1"
      ]
     },
     "execution_count": 131,
     "metadata": {},
     "output_type": "execute_result"
    }
   ],
   "source": [
    "def algo(main_dealer, main_joueur, true_count, action_stack):\n",
    "\n",
    "    if is_pair(main_joueur):\n",
    "        if model_pair(main_dealer, main_joueur, true_count):\n",
    "            action_stack.append('P')\n",
    "            # transaction_pair(main_dealer, main_joueur, true_count, action_stack)"
   ]
  },
  {
   "cell_type": "code",
   "execution_count": null,
   "id": "e6cccf69",
   "metadata": {},
   "outputs": [],
   "source": []
  }
 ],
 "metadata": {
  "kernelspec": {
   "display_name": "base",
   "language": "python",
   "name": "python3"
  },
  "language_info": {
   "codemirror_mode": {
    "name": "ipython",
    "version": 3
   },
   "file_extension": ".py",
   "mimetype": "text/x-python",
   "name": "python",
   "nbconvert_exporter": "python",
   "pygments_lexer": "ipython3",
   "version": "3.12.3"
  }
 },
 "nbformat": 4,
 "nbformat_minor": 5
}
